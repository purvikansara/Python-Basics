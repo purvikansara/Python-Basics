{
 "cells": [
  {
   "cell_type": "markdown",
   "metadata": {
    "id": "wfmOQMTsUwwN"
   },
   "source": [
    "# Functions"
   ]
  },
  {
   "cell_type": "markdown",
   "metadata": {
    "id": "gvexCleyVRYR"
   },
   "source": [
    "# Recap\n",
    "\n",
    "- Nested lists\n",
    "- Conditionals (if/else)\n",
    "- Loops\n"
   ]
  },
  {
   "cell_type": "markdown",
   "metadata": {
    "id": "1c2GLTAxdtCT"
   },
   "source": [
    "# Nested Dictionaries"
   ]
  },
  {
   "cell_type": "code",
   "execution_count": null,
   "metadata": {
    "colab": {
     "base_uri": "https://localhost:8080/"
    },
    "id": "WIJ0O4AOeisF",
    "outputId": "32889838-5cd2-4e18-fb3c-13eec7b8c609"
   },
   "outputs": [
    {
     "data": {
      "text/plain": [
       "dict_keys(['Aaa', 'Bbb', 'Ccc', 'Ddd'])"
      ]
     },
     "execution_count": 2,
     "metadata": {},
     "output_type": "execute_result"
    }
   ],
   "source": [
    "# create the dictionary of student with subject name and score\n",
    "subject_dict = {'Aaa':{'Physics': 72,\n",
    "                       'Math': 85,},\n",
    "                'Bbb':{'Physics': 60,\n",
    "                       'Math': 75,},\n",
    "                'Ccc':{'Physics': 90,\n",
    "                       'Math': 80,},\n",
    "                'Ddd':{'Physics': 74,\n",
    "                       'Math': 65,}}\n",
    "\n",
    "# .keys() method is for accessing the keys in directories\n",
    "subject_dict.keys()\n"
   ]
  },
  {
   "cell_type": "code",
   "execution_count": null,
   "metadata": {
    "colab": {
     "base_uri": "https://localhost:8080/"
    },
    "id": "0icmPRKto6vr",
    "outputId": "67421b8d-4f70-4dab-d666-cf34d42332f6"
   },
   "outputs": [
    {
     "data": {
      "text/plain": [
       "dict_values([{'Physics': 72, 'Math': 85}, {'Physics': 60, 'Math': 75}, {'Physics': 90, 'Math': 80}, {'Physics': 74, 'Math': 65}])"
      ]
     },
     "execution_count": 3,
     "metadata": {},
     "output_type": "execute_result"
    }
   ],
   "source": [
    "# .values() method is for accessing the values in directories\n",
    "subject_dict.values()"
   ]
  },
  {
   "cell_type": "code",
   "execution_count": null,
   "metadata": {
    "colab": {
     "base_uri": "https://localhost:8080/"
    },
    "id": "DcI00HUHqcxL",
    "outputId": "f27375f7-6f74-48b1-db45-21ec73c52612"
   },
   "outputs": [
    {
     "data": {
      "text/plain": [
       "{'Math': 75, 'Physics': 60}"
      ]
     },
     "execution_count": 4,
     "metadata": {},
     "output_type": "execute_result"
    }
   ],
   "source": [
    "subject_dict['Bbb']"
   ]
  },
  {
   "cell_type": "code",
   "execution_count": null,
   "metadata": {
    "colab": {
     "base_uri": "https://localhost:8080/"
    },
    "id": "tyGRLL1JrvSP",
    "outputId": "451a52c1-f324-4fd3-e8de-0f98bc225f62"
   },
   "outputs": [
    {
     "data": {
      "text/plain": [
       "80"
      ]
     },
     "execution_count": 5,
     "metadata": {},
     "output_type": "execute_result"
    }
   ],
   "source": [
    "# what is the math score of 'ccc' ?\n",
    "\n",
    "subject_dict['Ccc']['Math']"
   ]
  },
  {
   "cell_type": "code",
   "execution_count": null,
   "metadata": {
    "colab": {
     "base_uri": "https://localhost:8080/"
    },
    "id": "j42maynp34Ub",
    "outputId": "cbfc9a4d-0c2c-4c0c-a7b0-864b2adc1349"
   },
   "outputs": [
    {
     "data": {
      "text/plain": [
       "dict_items([('Aaa', {'Physics': 72, 'Math': 85}), ('Bbb', {'Physics': 60, 'Math': 75}), ('Ccc', {'Physics': 90, 'Math': 80}), ('Ddd', {'Physics': 74, 'Math': 65})])"
      ]
     },
     "execution_count": 6,
     "metadata": {},
     "output_type": "execute_result"
    }
   ],
   "source": [
    "subject_dict.items()"
   ]
  },
  {
   "cell_type": "code",
   "execution_count": null,
   "metadata": {
    "colab": {
     "base_uri": "https://localhost:8080/"
    },
    "id": "HxsvhwD3eKC-",
    "outputId": "f85402ba-a1b3-46ea-bd7c-a8030c46cdd1"
   },
   "outputs": [
    {
     "name": "stdout",
     "output_type": "stream",
     "text": [
      " Aaa, scored  72 in Physics and 85 in Maths\n",
      " Bbb, scored  60 in Physics and 75 in Maths\n",
      " Ccc, scored  90 in Physics and 80 in Maths\n",
      " Ddd, scored  74 in Physics and 65 in Maths\n"
     ]
    }
   ],
   "source": [
    "# loop through nested dictionary and print Physics and Math score for all students\n",
    "\n",
    "for name,subject in subject_dict.items():\n",
    "    print(f\" {name}, scored  {subject['Physics']} in Physics and {subject['Math']} in Maths\")"
   ]
  },
  {
   "cell_type": "code",
   "execution_count": null,
   "metadata": {
    "colab": {
     "base_uri": "https://localhost:8080/"
    },
    "id": "0vNrU62Ddtv8",
    "outputId": "59c999d2-34f1-418f-e81f-23c361561931"
   },
   "outputs": [
    {
     "name": "stdout",
     "output_type": "stream",
     "text": [
      "Sherlin\n",
      " Sherlin, is not in the directory\n"
     ]
    }
   ],
   "source": [
    "# check if student Xxx is present in the student directory or not and print appropriate message\n",
    "\n",
    "# take input from the user and save it in a variable name\n",
    "name=input()\n",
    "\n",
    "if name in subject_dict.keys():\n",
    "  print(f\" {name}, is in the directory\")\n",
    "else:\n",
    "  print(f\" {name}, is not in the directory\")"
   ]
  },
  {
   "cell_type": "markdown",
   "metadata": {
    "id": "t4LiS_-C07ex"
   },
   "source": [
    "# Nested loops\n",
    "- loops within loops"
   ]
  },
  {
   "cell_type": "code",
   "execution_count": null,
   "metadata": {
    "colab": {
     "base_uri": "https://localhost:8080/"
    },
    "id": "EwzQaMg37M6V",
    "outputId": "514571d2-c02f-4ba9-de7d-24f418d53ea6"
   },
   "outputs": [
    {
     "name": "stdout",
     "output_type": "stream",
     "text": [
      "['Friends', 'Family Guy', 'Spider Man', 'Game of Thrones']\n",
      "Length of Friends is 7.\n",
      "Length of Family Guy is 10.\n",
      "Length of Spider Man is 10.\n",
      "Length of Game of Thrones is 15.\n",
      "['Over the Moon', 'Luca', 'Home Alone']\n",
      "Length of Over the Moon is 13.\n",
      "Length of Luca is 4.\n",
      "Length of Home Alone is 10.\n",
      "['Breaking bad', 'Captain America']\n",
      "Length of Breaking bad is 12.\n",
      "Length of Captain America is 15.\n"
     ]
    }
   ],
   "source": [
    "# create a nested list with movie names\n",
    "\n",
    "movies = [['Friends','Family Guy','Spider Man','Game of Thrones'],\n",
    "          ['Over the Moon','Luca','Home Alone'],\n",
    "          ['Breaking bad','Captain America']]\n",
    "\n",
    "# loop through the movies\n",
    "for sublist in movies:\n",
    "  print(sublist)\n",
    "  # loop through movie in sublist\n",
    "  for movie in sublist:\n",
    "\n",
    "    # print length of each movie\n",
    "    print(f\"Length of {movie} is {len(movie)}.\")"
   ]
  },
  {
   "cell_type": "code",
   "execution_count": null,
   "metadata": {
    "colab": {
     "base_uri": "https://localhost:8080/"
    },
    "id": "qKoug7Vhc1Pz",
    "outputId": "c921e871-8402-427f-b09e-a7135aa6252d"
   },
   "outputs": [
    {
     "name": "stdout",
     "output_type": "stream",
     "text": [
      "\n",
      "Name = Aaa\n",
      "72\n",
      "85\n",
      "\n",
      "Name = Bbb\n",
      "60\n",
      "75\n",
      "\n",
      "Name = Ccc\n",
      "90\n",
      "80\n",
      "\n",
      "Name = Ddd\n",
      "74\n",
      "65\n"
     ]
    }
   ],
   "source": [
    "# consider the same example of subject_dict\n",
    "\n",
    "# first loop through subject_dict\n",
    "for name ,subject in subject_dict.items():\n",
    "\n",
    "  # print the name in first loop\n",
    "  print(f\"\\nName = {name}\")\n",
    "\n",
    "  #loop through subject\n",
    "  for sub in subject:\n",
    "    print(subject[sub])"
   ]
  },
  {
   "cell_type": "markdown",
   "metadata": {
    "id": "6YCcs8PDE0q6"
   },
   "source": [
    "# **Functions**"
   ]
  },
  {
   "cell_type": "markdown",
   "metadata": {
    "id": "zXE__LreE7ws"
   },
   "source": [
    "* A function is a named block of code that we can execute to perform a specific task.\n",
    "* Set of instructions that you can run at any time.\n",
    "*  If you find something that you seem to be using over and over again, it might be best to have a way to streamline the process.\n",
    "* A function can optionally take in parameters, perform a series of instructions, and optionally return something afterwards.\n",
    "* modularization of code\n",
    "\n"
   ]
  },
  {
   "cell_type": "markdown",
   "metadata": {
    "id": "Bx46R2L8ZT90"
   },
   "source": [
    "# Syntax of Function"
   ]
  },
  {
   "cell_type": "code",
   "execution_count": null,
   "metadata": {
    "colab": {
     "base_uri": "https://localhost:8080/",
     "height": 131
    },
    "id": "hH6vCEPqiACx",
    "outputId": "b834fb92-4a04-4d40-e9a8-15dc16b7db5e"
   },
   "outputs": [
    {
     "ename": "SyntaxError",
     "evalue": "ignored",
     "output_type": "error",
     "traceback": [
      "\u001b[0;36m  File \u001b[0;32m\"<ipython-input-11-dacad83a1e5a>\"\u001b[0;36m, line \u001b[0;32m1\u001b[0m\n\u001b[0;31m    def function_name(parameters(optional)):\u001b[0m\n\u001b[0m                                ^\u001b[0m\n\u001b[0;31mSyntaxError\u001b[0m\u001b[0;31m:\u001b[0m invalid syntax\n"
     ]
    }
   ],
   "source": [
    "def function_name(parameters(optional)):\n",
    "    \"\"\"docstring\"\"\"\n",
    "    statement(s)\n",
    "    return expression\n",
    "\n",
    "# Driver code to call function\n",
    "\n",
    "function_name(parameters)"
   ]
  },
  {
   "cell_type": "code",
   "execution_count": null,
   "metadata": {
    "id": "gxmX0XzBbHya"
   },
   "outputs": [],
   "source": [
    "# Simple function without parameters\n",
    "def greet():\n",
    "  print('hello how are you')\n",
    "\n",
    "greet()"
   ]
  },
  {
   "cell_type": "code",
   "execution_count": null,
   "metadata": {
    "colab": {
     "base_uri": "https://localhost:8080/"
    },
    "id": "QLaJTmFkbMe7",
    "outputId": "8132c7d0-9330-4eee-8fb1-378b7613e341"
   },
   "outputs": [
    {
     "name": "stdout",
     "output_type": "stream",
     "text": [
      "15\n"
     ]
    }
   ],
   "source": [
    "# Simple function without parameters\n",
    "def fun():\n",
    "  a=5    # a, b are variables in the function\n",
    "  b=3\n",
    "  print (a*b)\n",
    "\n",
    "fun()"
   ]
  },
  {
   "cell_type": "code",
   "execution_count": null,
   "metadata": {
    "id": "mtxMz_C-b4Vt"
   },
   "outputs": [],
   "source": [
    "# Function with parameters\n",
    "# A simple Python function to check\n",
    "# whether x is even or odd\n",
    "\n",
    "# Parameters/arguments are the values passed inside the parenthesis of the function. A function can have any number of arguments separated by a comma.In this code only one parameter x\n",
    "\n",
    "def evenodd(x):\n",
    "    \"\"\"This is the doc string \"\"\"\n",
    "\n",
    "    if (x % 2 == 0):\n",
    "        return \"even\"\n",
    "    else:\n",
    "        return\"odd\"\n",
    "\n",
    "\n",
    "# Driver code to call the function\n",
    "\n"
   ]
  },
  {
   "cell_type": "code",
   "execution_count": null,
   "metadata": {
    "colab": {
     "base_uri": "https://localhost:8080/"
    },
    "id": "qpqqcl-g9oBf",
    "outputId": "443fe5c8-cc68-4129-9379-468196bbf856"
   },
   "outputs": [
    {
     "name": "stdout",
     "output_type": "stream",
     "text": [
      "This is the doc string \n",
      "5\n",
      "odd\n"
     ]
    }
   ],
   "source": [
    "print(evenodd.__doc__)\n",
    "num=int(input())\n",
    "type(num)\n",
    "ans = evenodd(num)\n",
    "print(ans)"
   ]
  },
  {
   "cell_type": "code",
   "execution_count": null,
   "metadata": {
    "colab": {
     "base_uri": "https://localhost:8080/"
    },
    "id": "ZTmQ_VSXflHe",
    "outputId": "f71a15ec-54b3-4f8f-9e1d-3ec966a85676"
   },
   "outputs": [
    {
     "name": "stdout",
     "output_type": "stream",
     "text": [
      "['HELLO', 'HOW', 'ARE', 'YOU']\n"
     ]
    }
   ],
   "source": [
    "# function to convert the list values to upper case\n",
    "\n",
    "def str_upr(lst):\n",
    "  for i,s in enumerate(lst):\n",
    "    lst[i]=s.upper()\n",
    "  print(lst)\n",
    "\n",
    "\n",
    "# driver code\n",
    "\n",
    "my_list = ['hello','how','are','you']\n",
    "str_upr(my_list)"
   ]
  },
  {
   "cell_type": "markdown",
   "metadata": {
    "id": "2zF-MBDreHb0"
   },
   "source": [
    "# Your turn\n",
    "\n",
    "- Make a copy of this notebook\n"
   ]
  },
  {
   "cell_type": "code",
   "execution_count": null,
   "metadata": {
    "id": "uWpoonpoeQ6o"
   },
   "outputs": [],
   "source": [
    "# Create a dictionary city_state with at least 5 key : value pair of City : State\n",
    "#city_state = {{'New_Jersey': 'Newark'}, {'Florida': 'Miami'}, {'Seattle':'Washington'}}\n"
   ]
  },
  {
   "cell_type": "code",
   "execution_count": null,
   "metadata": {
    "id": "6vOnhWLaefpF"
   },
   "outputs": [],
   "source": [
    "# write a function diplay_citystate\n",
    "# Pass dictionary as argument\n",
    "# print all the key : value pair\n",
    "\n",
    "\n"
   ]
  },
  {
   "cell_type": "code",
   "execution_count": null,
   "metadata": {
    "id": "phUTHAPMpS25"
   },
   "outputs": [],
   "source": [
    "# driver code\n",
    "# call the function display_citystate(city_state)\n",
    "\n"
   ]
  },
  {
   "cell_type": "code",
   "execution_count": null,
   "metadata": {
    "id": "0oL02kejieKv"
   },
   "outputs": [],
   "source": [
    "# Create a list named num_list with all numbers\n",
    "\n",
    "num_list= (0,1,3,6,7,10,13)"
   ]
  },
  {
   "cell_type": "code",
   "execution_count": null,
   "metadata": {
    "id": "WxI3v3tze_gG"
   },
   "outputs": [],
   "source": [
    "# write a function update_list to check for the value 10 in the list items and update it with 15. Print the new updated list.\n",
    "# Hint: use append() to create new updated list\n",
    "# ex:      num_list = [1,5,3,66,10,33,10]\n",
    "# updated  new_list = [1,5,3,66,15,33,15]\n",
    "\n",
    "\n"
   ]
  },
  {
   "cell_type": "code",
   "execution_count": null,
   "metadata": {
    "id": "DitRWqSnpwRD"
   },
   "outputs": [],
   "source": [
    "# driver code\n",
    "# call the function update_list(num_list)\n",
    "\n",
    "\n"
   ]
  },
  {
   "cell_type": "code",
   "execution_count": null,
   "metadata": {
    "colab": {
     "base_uri": "https://localhost:8080/"
    },
    "id": "mH7Cw36EZ2UO",
    "outputId": "422f4e11-fba3-41e8-ff61-52b2441eaae2"
   },
   "outputs": [
    {
     "name": "stdout",
     "output_type": "stream",
     "text": [
      "You are eligible for driving\n"
     ]
    }
   ],
   "source": [
    "# nested if else\n",
    "# check if the person is eligible for driving or not based on age and drive\n",
    "\n",
    "age = 17\n",
    "provisional_driver_license = 'yes'\n",
    "\n",
    "if age<16:\n",
    "  print('Your are too young to drive')\n",
    "else:\n",
    "  if age>=16 and age<18:\n",
    "    if provisional_driver_license == 'yes':\n",
    "      print('You are eligible for driving')\n",
    "    else:\n",
    "      print('You need provisional driver license to drive')\n",
    "  else:\n",
    "    print('You are eligible for driving')\n",
    "\n"
   ]
  }
 ],
 "metadata": {
  "colab": {
   "provenance": []
  },
  "kernelspec": {
   "display_name": "Python 3 (ipykernel)",
   "language": "python",
   "name": "python3"
  },
  "language_info": {
   "codemirror_mode": {
    "name": "ipython",
    "version": 3
   },
   "file_extension": ".py",
   "mimetype": "text/x-python",
   "name": "python",
   "nbconvert_exporter": "python",
   "pygments_lexer": "ipython3",
   "version": "3.8.13"
  },
  "toc": {
   "base_numbering": 1,
   "nav_menu": {},
   "number_sections": false,
   "sideBar": true,
   "skip_h1_title": false,
   "title_cell": "Table of Contents",
   "title_sidebar": "Contents",
   "toc_cell": false,
   "toc_position": {},
   "toc_section_display": true,
   "toc_window_display": true
  }
 },
 "nbformat": 4,
 "nbformat_minor": 1
}
