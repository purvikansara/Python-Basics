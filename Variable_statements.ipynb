{
 "cells": [
  {
   "cell_type": "markdown",
   "id": "77befe80",
   "metadata": {},
   "source": [
    "# Python Basics"
   ]
  },
  {
   "cell_type": "markdown",
   "id": "065d66f0",
   "metadata": {},
   "source": [
    "## Python Tutor visualizer\n",
    "\n",
    "- https://pythontutor.com/visualize.html#mode=edit"
   ]
  },
  {
   "cell_type": "markdown",
   "id": "3af46f94",
   "metadata": {},
   "source": [
    "## Statements\n",
    "\n",
    "- Python program is consist of lines composed of statements like **expression, assignment , a single statement, function defination, function call**"
   ]
  },
  {
   "cell_type": "markdown",
   "id": "77e614ac",
   "metadata": {},
   "source": [
    "- Expressions\n",
    "  - strings\n",
    "  - integers (floating-point, complex numbers)\n",
    "  - boolean values\n",
    "  - lists and dictionaries\n",
    "\n",
    "\n"
   ]
  },
  {
   "cell_type": "markdown",
   "id": "3f72aa21",
   "metadata": {},
   "source": [
    ">- Strings"
   ]
  },
  {
   "cell_type": "code",
   "execution_count": 1,
   "id": "e5f51b94",
   "metadata": {},
   "outputs": [
    {
     "name": "stdout",
     "output_type": "stream",
     "text": [
      "welcome to coding dojo\n"
     ]
    }
   ],
   "source": [
    "str = \"Coding Dojo\"\n",
    "print('welcome to coding dojo')"
   ]
  },
  {
   "cell_type": "code",
   "execution_count": 2,
   "id": "f1a7c4cf",
   "metadata": {},
   "outputs": [
    {
     "name": "stdout",
     "output_type": "stream",
     "text": [
      "Coding Dojo\n",
      "Welcome to Coding Dojo\n"
     ]
    }
   ],
   "source": [
    "\n",
    "print(str)\n",
    "print('Welcome to '+str)"
   ]
  },
  {
   "cell_type": "code",
   "execution_count": 3,
   "id": "d697c0f7",
   "metadata": {},
   "outputs": [
    {
     "name": "stdout",
     "output_type": "stream",
     "text": [
      "I love Data Science and Java at Coding Dojo\n"
     ]
    }
   ],
   "source": [
    "\n",
    "str1 = 'Data Science'\n",
    "str2 = 'Java'\n",
    "print(f'I love {str1} and {str2} at {str}')"
   ]
  },
  {
   "cell_type": "code",
   "execution_count": 4,
   "id": "fc3196d6",
   "metadata": {},
   "outputs": [
    {
     "name": "stdout",
     "output_type": "stream",
     "text": [
      "DATA SCIENCE\n",
      "data science\n",
      "False\n"
     ]
    }
   ],
   "source": [
    "\n",
    "print(str1.upper())\n",
    "print(str1.lower())\n",
    "x = str1.isdigit()\n",
    "print(x)"
   ]
  },
  {
   "cell_type": "markdown",
   "id": "619a3a9c",
   "metadata": {},
   "source": [
    "\n",
    "\n",
    ">- Numbers"
   ]
  },
  {
   "cell_type": "code",
   "execution_count": 5,
   "id": "10feea82",
   "metadata": {},
   "outputs": [
    {
     "name": "stdout",
     "output_type": "stream",
     "text": [
      "1\n",
      "3.14\n"
     ]
    },
    {
     "data": {
      "text/plain": [
       "float"
      ]
     },
     "execution_count": 5,
     "metadata": {},
     "output_type": "execute_result"
    }
   ],
   "source": [
    "\n",
    "\n",
    "num = 1\n",
    "print(num)\n",
    "num = 3.14\n",
    "print(num)\n",
    "type(num)"
   ]
  },
  {
   "cell_type": "markdown",
   "id": "32944b45",
   "metadata": {},
   "source": [
    "\n",
    "\n",
    ">- Boolean values"
   ]
  },
  {
   "cell_type": "code",
   "execution_count": 6,
   "id": "6bf1bd8a",
   "metadata": {},
   "outputs": [
    {
     "name": "stdout",
     "output_type": "stream",
     "text": [
      "True\n"
     ]
    }
   ],
   "source": [
    "\n",
    "\n",
    "bool_var = True\n",
    "print(bool_var)"
   ]
  },
  {
   "cell_type": "markdown",
   "id": "ea121b80",
   "metadata": {},
   "source": [
    "\n",
    ">- Lists and Dictionaries"
   ]
  },
  {
   "cell_type": "markdown",
   "id": "494c77ec",
   "metadata": {},
   "source": [
    "\n",
    "\n",
    "\n",
    ">>- lists: [ ]\n",
    ">>- dictionaries (hash tables): { }\n",
    ">>- tuples: (item1,item2, ...)"
   ]
  },
  {
   "cell_type": "code",
   "execution_count": 7,
   "id": "2deb4671",
   "metadata": {},
   "outputs": [
    {
     "data": {
      "text/plain": [
       "6"
      ]
     },
     "execution_count": 7,
     "metadata": {},
     "output_type": "execute_result"
    }
   ],
   "source": [
    "\n",
    "\n",
    "\n",
    "# Lists\n",
    "\n",
    "empty = [] \n",
    "num_lst = [4,5,6,7]\n",
    "num_lst[2]\n"
   ]
  },
  {
   "cell_type": "code",
   "execution_count": 8,
   "id": "7ead1e5f",
   "metadata": {},
   "outputs": [
    {
     "name": "stdout",
     "output_type": "stream",
     "text": [
      "Mallory\n",
      "sam\n"
     ]
    },
    {
     "data": {
      "text/plain": [
       "['BOB', 'Eve', 'Mallory', 'sam']"
      ]
     },
     "execution_count": 8,
     "metadata": {},
     "output_type": "execute_result"
    }
   ],
   "source": [
    "\n",
    "\n",
    "str_lst = ['bob','alice','Eve','Mallory']\n",
    "print(str_lst[-1])\n",
    "str_lst.append('sam')\n",
    "print(str_lst[-1])\n",
    "str_lst\n",
    "str_lst.pop(1)\n",
    "str_lst\n",
    "str_lst[0]  ='BOB'\n",
    "str_lst"
   ]
  },
  {
   "cell_type": "code",
   "execution_count": 9,
   "id": "6879799b",
   "metadata": {},
   "outputs": [
    {
     "ename": "TypeError",
     "evalue": "list indices must be integers or slices, not str",
     "output_type": "error",
     "traceback": [
      "\u001b[0;31m---------------------------------------------------------------------------\u001b[0m",
      "\u001b[0;31mTypeError\u001b[0m                                 Traceback (most recent call last)",
      "Input \u001b[0;32mIn [9]\u001b[0m, in \u001b[0;36m<cell line: 1>\u001b[0;34m()\u001b[0m\n\u001b[0;32m----> 1\u001b[0m \u001b[38;5;28mprint\u001b[39m(\u001b[43mstr_lst\u001b[49m\u001b[43m[\u001b[49m\u001b[38;5;124;43m'\u001b[39;49m\u001b[38;5;124;43mEve\u001b[39;49m\u001b[38;5;124;43m'\u001b[39;49m\u001b[43m]\u001b[49m)\n",
      "\u001b[0;31mTypeError\u001b[0m: list indices must be integers or slices, not str"
     ]
    }
   ],
   "source": [
    "\n",
    "print(str_lst['Eve'])"
   ]
  },
  {
   "cell_type": "code",
   "execution_count": 10,
   "id": "582543b0",
   "metadata": {},
   "outputs": [
    {
     "data": {
      "text/plain": [
       "(1, 2, 3, 4, 5)"
      ]
     },
     "execution_count": 10,
     "metadata": {},
     "output_type": "execute_result"
    }
   ],
   "source": [
    "\n",
    "# Tuple\n",
    "\n",
    "(1,2,3,4,5)"
   ]
  },
  {
   "cell_type": "code",
   "execution_count": 11,
   "id": "20f82414",
   "metadata": {},
   "outputs": [
    {
     "ename": "TypeError",
     "evalue": "'tuple' object does not support item assignment",
     "output_type": "error",
     "traceback": [
      "\u001b[0;31m---------------------------------------------------------------------------\u001b[0m",
      "\u001b[0;31mTypeError\u001b[0m                                 Traceback (most recent call last)",
      "Input \u001b[0;32mIn [11]\u001b[0m, in \u001b[0;36m<cell line: 3>\u001b[0;34m()\u001b[0m\n\u001b[1;32m      1\u001b[0m tpl \u001b[38;5;241m=\u001b[39m (\u001b[38;5;241m1\u001b[39m,\u001b[38;5;241m2\u001b[39m,\u001b[38;5;241m3\u001b[39m,\u001b[38;5;124m'\u001b[39m\u001b[38;5;124mHello\u001b[39m\u001b[38;5;124m'\u001b[39m,\u001b[38;5;28;01mTrue\u001b[39;00m,\u001b[38;5;241m5.2\u001b[39m)\n\u001b[1;32m      2\u001b[0m tpl[\u001b[38;5;241m4\u001b[39m]\n\u001b[0;32m----> 3\u001b[0m tpl[\u001b[38;5;241m3\u001b[39m]\u001b[38;5;241m=\u001b[39m\u001b[38;5;241m30\u001b[39m\n",
      "\u001b[0;31mTypeError\u001b[0m: 'tuple' object does not support item assignment"
     ]
    }
   ],
   "source": [
    "\n",
    "tpl = (1,2,3,'Hello',True,5.2)\n",
    "tpl[4]\n",
    "tpl[3]=30"
   ]
  },
  {
   "cell_type": "code",
   "execution_count": 12,
   "id": "fd3b4df9",
   "metadata": {},
   "outputs": [
    {
     "name": "stdout",
     "output_type": "stream",
     "text": [
      "[1, 2, 3, 4, 5, 1, 2, 3, 4, 5]\n",
      "<class 'list'>\n",
      "10\n"
     ]
    },
    {
     "data": {
      "text/plain": [
       "[5, 4, 3, 2, 1, 5, 4, 3, 2, 1]"
      ]
     },
     "execution_count": 12,
     "metadata": {},
     "output_type": "execute_result"
    }
   ],
   "source": [
    "# more operations on list \n",
    "list1 = [1,2,3,4,5]\n",
    "list2 = [1,2,3,4,5]\n",
    "print(list1+list2)\n",
    "print(type(list1))\n",
    "print(len(list1)+len(list2))\n",
    "list3 = list1 +list2\n",
    "list3[::-1]"
   ]
  },
  {
   "cell_type": "code",
   "execution_count": 13,
   "id": "b430d788",
   "metadata": {},
   "outputs": [
    {
     "name": "stdout",
     "output_type": "stream",
     "text": [
      "11\n",
      "12\n",
      "13\n",
      "14\n",
      "15\n"
     ]
    }
   ],
   "source": [
    "\n",
    "\n",
    "\n",
    "# Adding 10 to list\n",
    "\n",
    "for i in list1:\n",
    "  print(i+10)"
   ]
  },
  {
   "cell_type": "code",
   "execution_count": 14,
   "id": "aff32e90",
   "metadata": {},
   "outputs": [
    {
     "name": "stdout",
     "output_type": "stream",
     "text": [
      "[11, 12, 13, 14, 15]\n"
     ]
    }
   ],
   "source": [
    "\n",
    "\n",
    " \n",
    "\n",
    "# List comprehension for a more compact implementation\n",
    "\n",
    "# adding number to all list element\n",
    "\n",
    "sum_list = [i + 10 for i in list1]\n",
    "print(sum_list)\n"
   ]
  },
  {
   "cell_type": "code",
   "execution_count": 15,
   "id": "78c973d4",
   "metadata": {},
   "outputs": [
    {
     "data": {
      "text/plain": [
       "{'Name': 'Sam', 'Address': '1234 56th AVE', 'Mobile': 1234567890}"
      ]
     },
     "execution_count": 15,
     "metadata": {},
     "output_type": "execute_result"
    }
   ],
   "source": [
    "\n",
    "# dict\n",
    "\n",
    "{\"Name\": \"Sam\", \"Address\": \"1234 56th AVE\", \"Mobile\": 1234567890}"
   ]
  },
  {
   "cell_type": "code",
   "execution_count": 16,
   "id": "6e67016c",
   "metadata": {},
   "outputs": [
    {
     "data": {
      "text/plain": [
       "1234567890"
      ]
     },
     "execution_count": 16,
     "metadata": {},
     "output_type": "execute_result"
    }
   ],
   "source": [
    "\n",
    "\n",
    "{\"Name\": \"Sam\", \"Address\": \"1234 56th AVE\", \"Mobile\": 1234567890}['Mobile']"
   ]
  },
  {
   "cell_type": "code",
   "execution_count": 17,
   "id": "f5ab5d62",
   "metadata": {},
   "outputs": [
    {
     "data": {
      "text/plain": [
       "dict"
      ]
     },
     "execution_count": 17,
     "metadata": {},
     "output_type": "execute_result"
    }
   ],
   "source": [
    "\n",
    "my_dict = {\"Name\": \"Sam\", \n",
    "           \"Address\": \"1234 56th AVE\", \n",
    "           \"Mobile\": 1234567890}\n",
    "type(my_dict)"
   ]
  },
  {
   "cell_type": "code",
   "execution_count": 18,
   "id": "34f231ad",
   "metadata": {},
   "outputs": [
    {
     "data": {
      "text/plain": [
       "'Sam'"
      ]
     },
     "execution_count": 18,
     "metadata": {},
     "output_type": "execute_result"
    }
   ],
   "source": [
    "\n",
    "\n",
    "\n",
    "\n",
    "\n",
    "my_dict['Name']\n"
   ]
  },
  {
   "cell_type": "code",
   "execution_count": null,
   "id": "94dbb39b",
   "metadata": {},
   "outputs": [],
   "source": []
  }
 ],
 "metadata": {
  "kernelspec": {
   "display_name": "Python (dojo-env)",
   "language": "python",
   "name": "dojo-env"
  },
  "language_info": {
   "codemirror_mode": {
    "name": "ipython",
    "version": 3
   },
   "file_extension": ".py",
   "mimetype": "text/x-python",
   "name": "python",
   "nbconvert_exporter": "python",
   "pygments_lexer": "ipython3",
   "version": "3.8.13"
  },
  "toc": {
   "base_numbering": 1,
   "nav_menu": {},
   "number_sections": false,
   "sideBar": true,
   "skip_h1_title": false,
   "title_cell": "Table of Contents",
   "title_sidebar": "Contents",
   "toc_cell": false,
   "toc_position": {},
   "toc_section_display": true,
   "toc_window_display": true
  }
 },
 "nbformat": 4,
 "nbformat_minor": 5
}
