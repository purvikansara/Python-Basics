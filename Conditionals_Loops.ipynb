{
 "cells": [
  {
   "cell_type": "markdown",
   "metadata": {
    "id": "nzhfhKLS_pUs"
   },
   "source": [
    "# Pre-boot Camp Python Basics"
   ]
  },
  {
   "cell_type": "markdown",
   "metadata": {
    "id": "I3oO0EJgGIuD"
   },
   "source": [
    "# Today's Objective\n",
    "- Review of previous Python Basic class activity\n",
    "- Review of previous class homework solution\n",
    "- Coditional (if/else)\n",
    "- Nested List\n",
    "- Nested Dictionaries\n",
    "- Nested Loops"
   ]
  },
  {
   "cell_type": "markdown",
   "metadata": {
    "id": "LYqd0aVxCj6z"
   },
   "source": [
    "# Previous Python Basic class activity\n",
    "\n",
    "- Previous class Notebook [Link](https://colab.research.google.com/drive/1V4ngCJG9hPhAg8unU_f9GmApK6crjbAe?usp=sharing) , for reference\n",
    "- Recorded lesson [Video link](https://youtu.be/X_DVgRbnE00)"
   ]
  },
  {
   "cell_type": "markdown",
   "metadata": {
    "id": "VCBLD7HtIBtE"
   },
   "source": [
    "- How to create Google colab notebook\n"
   ]
  },
  {
   "cell_type": "code",
   "execution_count": null,
   "metadata": {
    "colab": {
     "base_uri": "https://localhost:8080/"
    },
    "id": "-Uy6eGi3_mtg",
    "outputId": "53fc57d6-1d56-4c20-afb0-1872243c268d"
   },
   "outputs": [
    {
     "data": {
      "text/plain": [
       "str"
      ]
     },
     "execution_count": 2,
     "metadata": {},
     "output_type": "execute_result"
    }
   ],
   "source": [
    "# Strings\n",
    "\n",
    "x = 'Hello everyone!'\n",
    "type(x)"
   ]
  },
  {
   "cell_type": "markdown",
   "metadata": {
    "id": "j0eEMlBd_1NN"
   },
   "source": []
  },
  {
   "cell_type": "code",
   "execution_count": null,
   "metadata": {
    "colab": {
     "base_uri": "https://localhost:8080/"
    },
    "id": "59VGZ66XJhB4",
    "outputId": "84da5e04-e8ed-4a8d-95c3-f666823d5767"
   },
   "outputs": [
    {
     "data": {
      "text/plain": [
       "int"
      ]
     },
     "execution_count": 3,
     "metadata": {},
     "output_type": "execute_result"
    }
   ],
   "source": [
    "# numbers - integer\n",
    "x = 10\n",
    "type(x)"
   ]
  },
  {
   "cell_type": "code",
   "execution_count": null,
   "metadata": {
    "colab": {
     "base_uri": "https://localhost:8080/"
    },
    "id": "M1Ht3OFnJ15U",
    "outputId": "30a46350-ed88-4380-8834-d1845c8de7cc"
   },
   "outputs": [
    {
     "data": {
      "text/plain": [
       "float"
      ]
     },
     "execution_count": 4,
     "metadata": {},
     "output_type": "execute_result"
    }
   ],
   "source": [
    "# numbers - float\n",
    "x = 5.3\n",
    "type(x)"
   ]
  },
  {
   "cell_type": "code",
   "execution_count": null,
   "metadata": {
    "colab": {
     "base_uri": "https://localhost:8080/"
    },
    "id": "Y2QGOXPJKED8",
    "outputId": "55ac0f9c-d934-4ef0-8675-0d4afa9a54fc"
   },
   "outputs": [
    {
     "data": {
      "text/plain": [
       "bool"
      ]
     },
     "execution_count": 5,
     "metadata": {},
     "output_type": "execute_result"
    }
   ],
   "source": [
    "# Boolean (True/False)\n",
    "x = False\n",
    "type(x)"
   ]
  },
  {
   "cell_type": "code",
   "execution_count": null,
   "metadata": {
    "colab": {
     "base_uri": "https://localhost:8080/"
    },
    "id": "KMuCbQcSKQnp",
    "outputId": "ff67dd66-29d1-4e9b-a331-dfbc4898ad1b"
   },
   "outputs": [
    {
     "data": {
      "text/plain": [
       "tuple"
      ]
     },
     "execution_count": 6,
     "metadata": {},
     "output_type": "execute_result"
    }
   ],
   "source": [
    "# Tuple\n",
    "# It can store multiple items in a single variable\n",
    "# Tuple are unchangeable/immutable\n",
    "# Tuple items are indexed, the first item has index [0], the second item has index [1] and so on\n",
    "\n",
    "x = (7,5,4,2,4)\n",
    "type(x)"
   ]
  },
  {
   "cell_type": "code",
   "execution_count": null,
   "metadata": {
    "colab": {
     "base_uri": "https://localhost:8080/",
     "height": 187
    },
    "id": "bSLCEVG6N9bU",
    "outputId": "4652bea4-7f0b-4bde-f6a4-ef87449c4682"
   },
   "outputs": [
    {
     "ename": "TypeError",
     "evalue": "ignored",
     "output_type": "error",
     "traceback": [
      "\u001b[0;31m---------------------------------------------------------------------------\u001b[0m",
      "\u001b[0;31mTypeError\u001b[0m                                 Traceback (most recent call last)",
      "\u001b[0;32m<ipython-input-7-3c99f9acaa45>\u001b[0m in \u001b[0;36m<module>\u001b[0;34m()\u001b[0m\n\u001b[1;32m      1\u001b[0m \u001b[0;31m# Try to change the item at index [0] with 10, it will give error because tuple items are unchangeable/immutable\u001b[0m\u001b[0;34m\u001b[0m\u001b[0;34m\u001b[0m\u001b[0;34m\u001b[0m\u001b[0m\n\u001b[0;32m----> 2\u001b[0;31m \u001b[0mx\u001b[0m\u001b[0;34m[\u001b[0m\u001b[0;36m0\u001b[0m\u001b[0;34m]\u001b[0m \u001b[0;34m=\u001b[0m \u001b[0;36m10\u001b[0m\u001b[0;34m\u001b[0m\u001b[0;34m\u001b[0m\u001b[0m\n\u001b[0m",
      "\u001b[0;31mTypeError\u001b[0m: 'tuple' object does not support item assignment"
     ]
    }
   ],
   "source": [
    "# Try to change the item at index [0] with 10, it will give error because tuple items are unchangeable/immutable\n",
    "x[0] = 10"
   ]
  },
  {
   "cell_type": "code",
   "execution_count": null,
   "metadata": {
    "colab": {
     "base_uri": "https://localhost:8080/"
    },
    "id": "Yh_P9yNsNiAM",
    "outputId": "fd692dfc-da32-4870-8df8-c765d2653df2"
   },
   "outputs": [
    {
     "data": {
      "text/plain": [
       "list"
      ]
     },
     "execution_count": 8,
     "metadata": {},
     "output_type": "execute_result"
    }
   ],
   "source": [
    "# List\n",
    "# It can store multiple items in a single variable\n",
    "# Lists are changeable/mutable\n",
    "# Lists items are indexed, the first item has index [0], the second item has index [1] and so on\n",
    "\n",
    "x = [3,5,4,7,3,9]\n",
    "type(x)"
   ]
  },
  {
   "cell_type": "code",
   "execution_count": null,
   "metadata": {
    "colab": {
     "base_uri": "https://localhost:8080/"
    },
    "id": "2SNLoX_vPz3K",
    "outputId": "2b967290-81e7-481e-90bf-ae76c7a0f9ed"
   },
   "outputs": [
    {
     "data": {
      "text/plain": [
       "[15, 5, 4, 7, 3, 9]"
      ]
     },
     "execution_count": 10,
     "metadata": {},
     "output_type": "execute_result"
    }
   ],
   "source": [
    "# Try to change the item at index [0] with 10\n",
    "x[0] = 15\n",
    "x"
   ]
  },
  {
   "cell_type": "code",
   "execution_count": null,
   "metadata": {
    "colab": {
     "base_uri": "https://localhost:8080/"
    },
    "id": "IzYMYvGRQLzh",
    "outputId": "a433b80a-d712-4fbf-9fcf-8708b8666747"
   },
   "outputs": [
    {
     "name": "stdout",
     "output_type": "stream",
     "text": [
      "{'name': 'Purvi', 'address': '1234 56th ave ', 'Mobile': 9876543210}\n"
     ]
    }
   ],
   "source": [
    "# Dictionary\n",
    "# It store data values in key:value pairs\n",
    "# Dictionaries are changeable and do not allow duplicates\n",
    "\n",
    "my_dict = {\"name\": \"Purvi\",\n",
    "           \"address\": \"1234 56th ave \",\n",
    "           \"Mobile\": 9876543210}\n",
    "\n",
    "print(my_dict)"
   ]
  },
  {
   "cell_type": "code",
   "execution_count": null,
   "metadata": {
    "colab": {
     "base_uri": "https://localhost:8080/"
    },
    "id": "H-b4w0WASng4",
    "outputId": "2683d6d5-e146-43ab-cf2e-51b702f693ec"
   },
   "outputs": [
    {
     "data": {
      "text/plain": [
       "9876543210"
      ]
     },
     "execution_count": 12,
     "metadata": {},
     "output_type": "execute_result"
    }
   ],
   "source": [
    "# Print Mobile from my_dict\n",
    "\n",
    "my_dict['Mobile']"
   ]
  },
  {
   "cell_type": "markdown",
   "metadata": {
    "id": "zQCNOe6YTSKV"
   },
   "source": [
    "# Homework notebook solution"
   ]
  },
  {
   "cell_type": "markdown",
   "metadata": {
    "id": "7WbKxb_9s8Me"
   },
   "source": [
    "Task 1 : Write a code to generate two lists and print them\n"
   ]
  },
  {
   "cell_type": "code",
   "execution_count": null,
   "metadata": {
    "colab": {
     "base_uri": "https://localhost:8080/"
    },
    "id": "fHDGmanxTfN5",
    "outputId": "fb8f4fa1-a19e-469a-85d4-520b239acc3b"
   },
   "outputs": [
    {
     "name": "stdout",
     "output_type": "stream",
     "text": [
      "[1, 2, 3, 4, 5]\n",
      "['a', 'b', 'c', 'd', 'e', 'f', 'g']\n"
     ]
    }
   ],
   "source": [
    "list1 = [1,2,3,4,5]\n",
    "list2 = ['a','b','c','d','e','f','g']\n",
    "print(list1)\n",
    "print(list2)"
   ]
  },
  {
   "cell_type": "code",
   "execution_count": null,
   "metadata": {
    "colab": {
     "base_uri": "https://localhost:8080/"
    },
    "id": "qWSu4u5GPCqH",
    "outputId": "a56cfb01-6717-474a-d5f1-4565147f2dd7"
   },
   "outputs": [
    {
     "name": "stdout",
     "output_type": "stream",
     "text": [
      "[1, 2, 3, 4, 5, 'a', 'b', 'c', 'd', 'e', 'f', 'g']\n"
     ]
    }
   ],
   "source": [
    "# printing the addition of list1 and list2\n",
    "list3 = list1 +list2\n",
    "print(list3)"
   ]
  },
  {
   "cell_type": "markdown",
   "metadata": {
    "id": "XD90BQLWuUIU"
   },
   "source": [
    "\n",
    "Task2 : Find the length of both list without using len() function\n",
    "\n",
    "- Hint :  use for loop"
   ]
  },
  {
   "cell_type": "code",
   "execution_count": null,
   "metadata": {
    "colab": {
     "base_uri": "https://localhost:8080/"
    },
    "id": "r3o-0sDMIzPR",
    "outputId": "1cbb1a78-57cb-4f96-8e10-2a0d58f0065d"
   },
   "outputs": [
    {
     "data": {
      "text/plain": [
       "5"
      ]
     },
     "execution_count": 15,
     "metadata": {},
     "output_type": "execute_result"
    }
   ],
   "source": [
    "len(list1)"
   ]
  },
  {
   "cell_type": "code",
   "execution_count": null,
   "metadata": {
    "colab": {
     "base_uri": "https://localhost:8080/"
    },
    "id": "fjaKNcqUTrzZ",
    "outputId": "47060e8c-482e-4b8e-ade0-a2f86acc971b"
   },
   "outputs": [
    {
     "name": "stdout",
     "output_type": "stream",
     "text": [
      "5\n"
     ]
    }
   ],
   "source": [
    "# initialize variable l with 0\n",
    "l = 0\n",
    "\n",
    "# loop through the list1 and increment l\n",
    "for i in list1:\n",
    "  l = l+1\n",
    "print(l)"
   ]
  },
  {
   "cell_type": "markdown",
   "metadata": {
    "id": "S5sXDucrugYO"
   },
   "source": [
    "Task3 : Find the square of all elements in list1 and print\n"
   ]
  },
  {
   "cell_type": "code",
   "execution_count": null,
   "metadata": {
    "colab": {
     "base_uri": "https://localhost:8080/"
    },
    "id": "aEz0DTQdJVYQ",
    "outputId": "8a6b90db-0dc1-4b50-cda8-cea78da26ccb"
   },
   "outputs": [
    {
     "data": {
      "text/plain": [
       "[1, 2, 3, 4, 5]"
      ]
     },
     "execution_count": 17,
     "metadata": {},
     "output_type": "execute_result"
    }
   ],
   "source": [
    "list1"
   ]
  },
  {
   "cell_type": "code",
   "execution_count": null,
   "metadata": {
    "colab": {
     "base_uri": "https://localhost:8080/"
    },
    "id": "Zu-VetMlX_W-",
    "outputId": "103ec79f-d684-46b8-d0ed-6930c859ba7e"
   },
   "outputs": [
    {
     "name": "stdout",
     "output_type": "stream",
     "text": [
      "1\n",
      "4\n",
      "9\n",
      "16\n",
      "25\n"
     ]
    }
   ],
   "source": [
    "# square of list items without storing in list\n",
    "\n",
    "# loop through list1 and multiply  i * i to get the square\n",
    "for i in list1:\n",
    "  x = i * i    # pow(i,2) can also be used to find square\n",
    "  print(x)"
   ]
  },
  {
   "cell_type": "code",
   "execution_count": null,
   "metadata": {
    "colab": {
     "base_uri": "https://localhost:8080/"
    },
    "id": "U9zgGn_SX_QU",
    "outputId": "0decdb1f-15d9-4850-c272-dc86e4c87392"
   },
   "outputs": [
    {
     "name": "stdout",
     "output_type": "stream",
     "text": [
      "[1, 4, 9, 16, 25]\n"
     ]
    }
   ],
   "source": [
    "# square of list items and storing in list by append()\n",
    "\n",
    "# create empty list square_list\n",
    "square_list =[]\n",
    "\n",
    "# loop through list1 and append square of item in square_list[] using append()\n",
    "for i in list1:\n",
    "  square_list.append(i**2)\n",
    "print(square_list)"
   ]
  },
  {
   "cell_type": "markdown",
   "metadata": {
    "id": "fWz6zAoYuyFb"
   },
   "source": [
    "Task 4: Change 3rd element of the list to 50 and append 100 at the end"
   ]
  },
  {
   "cell_type": "code",
   "execution_count": null,
   "metadata": {
    "colab": {
     "base_uri": "https://localhost:8080/"
    },
    "id": "5ZbeLwqzTzF4",
    "outputId": "d18128b1-537c-4ee0-acee-4619dc3d4720"
   },
   "outputs": [
    {
     "data": {
      "text/plain": [
       "[1, 2, 50, 4, 5, 100]"
      ]
     },
     "execution_count": 25,
     "metadata": {},
     "output_type": "execute_result"
    }
   ],
   "source": [
    "list1[2] = 50\n",
    "list1.append(100)\n",
    "list1"
   ]
  },
  {
   "cell_type": "markdown",
   "metadata": {
    "id": "Z_8TS73gdetY"
   },
   "source": [
    "Task5 : Write a simple code to generate the dictionary of Car which includes multiple type of data about the car. Example :\n",
    "> Brand, model, year, price\n",
    "\n"
   ]
  },
  {
   "cell_type": "code",
   "execution_count": null,
   "metadata": {
    "id": "nQOtSiZvaBF4"
   },
   "outputs": [],
   "source": [
    "my_car  = {'brand': 'Honda',\n",
    "           'model': 'Civic',\n",
    "           'Year':2020,\n",
    "           'price': 20000}"
   ]
  },
  {
   "cell_type": "markdown",
   "metadata": {
    "id": "6ecXqbQbbdn2"
   },
   "source": [
    "# Nested List\n",
    "- List within the list"
   ]
  },
  {
   "cell_type": "code",
   "execution_count": null,
   "metadata": {
    "colab": {
     "base_uri": "https://localhost:8080/"
    },
    "id": "UyV5A9C3blju",
    "outputId": "127dfa1f-a975-456f-ed73-1e267ee3cac4"
   },
   "outputs": [
    {
     "data": {
      "text/plain": [
       "[1, 2, 3, [10, 11, 12], 'numbers']"
      ]
     },
     "execution_count": 26,
     "metadata": {},
     "output_type": "execute_result"
    }
   ],
   "source": [
    "# Creating Nested List\n",
    "x = [1,2,3,[10,11,12],'numbers']\n",
    "x"
   ]
  },
  {
   "cell_type": "markdown",
   "metadata": {
    "id": "EULwZS2n5mHx"
   },
   "source": [
    "- List indexing\n",
    ">![image.png](data:image/png;base64,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)"
   ]
  },
  {
   "cell_type": "markdown",
   "metadata": {
    "id": "x2yTwMfI5-9-"
   },
   "source": [
    "- Nested list indexing\n",
    ">![image.png](data:image/png;base64,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)"
   ]
  },
  {
   "cell_type": "code",
   "execution_count": null,
   "metadata": {
    "colab": {
     "base_uri": "https://localhost:8080/"
    },
    "id": "BHGRQHdW2_em",
    "outputId": "b7e78a3d-0040-4d61-c897-156a036c5855"
   },
   "outputs": [
    {
     "data": {
      "text/plain": [
       "[3, 4, 5]"
      ]
     },
     "execution_count": 27,
     "metadata": {},
     "output_type": "execute_result"
    }
   ],
   "source": [
    "# Accessing Nested list item by index\n",
    "x= [1,2,[3,4,5],6,7]\n",
    "\n",
    "x[2]"
   ]
  },
  {
   "cell_type": "code",
   "execution_count": null,
   "metadata": {
    "id": "gJfvF-ApLM-X"
   },
   "outputs": [],
   "source": [
    "#x= [1,2,[3,4,['a','b'],[1,1]],5,6],7]"
   ]
  },
  {
   "cell_type": "code",
   "execution_count": null,
   "metadata": {
    "colab": {
     "base_uri": "https://localhost:8080/"
    },
    "id": "uvtXtSRW9ZnE",
    "outputId": "c379a2fb-e33d-41d7-8ea2-c918c30fd6be"
   },
   "outputs": [
    {
     "data": {
      "text/plain": [
       "4"
      ]
     },
     "execution_count": 29,
     "metadata": {},
     "output_type": "execute_result"
    }
   ],
   "source": [
    "# print 4 from the list\n",
    "#x[2][1]\n",
    "x[-3][-2]"
   ]
  },
  {
   "cell_type": "code",
   "execution_count": null,
   "metadata": {
    "colab": {
     "base_uri": "https://localhost:8080/"
    },
    "id": "6TWwFCFR-Pbe",
    "outputId": "2d6c9c35-dd99-434b-9cab-db744a2f3c7d"
   },
   "outputs": [
    {
     "data": {
      "text/plain": [
       "5"
      ]
     },
     "execution_count": 30,
     "metadata": {},
     "output_type": "execute_result"
    }
   ],
   "source": [
    "# print 5 using negative indexing\n",
    "x[-3][-1]"
   ]
  },
  {
   "cell_type": "markdown",
   "metadata": {
    "id": "FFz5xNWB-TVb"
   },
   "source": [
    "# List Slicing\n",
    ">![image.png](data:image/png;base64,iVBORw0KGgoAAAANSUhEUgAAAOgAAAArCAYAAABy1cRiAAAAAXNSR0IArs4c6QAAAARnQU1BAACxjwv8YQUAAAAJcEhZcwAADsMAAA7DAcdvqGQAAAWwSURBVHhe7Z3NbupGFMcPfZNbQRaXPIG9bwXRlbrKturGLIPaZneX2aWqzBI2Vbd3FamKrT4APAFkEVt9Ffec+XCMPQZjbDzA+UlHGM8w479njjPnDEl6CQIGNpsNDIdD9Y5hmLYx+dx36pVhGAthB2UYi2EHZRiLYQdlGIthB2UYi2EHZRiLMW6zfP/7j+qIYZhT898f/6ojdND1el1w0C9//aqOGIY5Nf/88qc62vMTNOvJDMO0i8nvOAZlGIthB2UYi2EHZRiLYQdlGIthB2UYi2EHZRiLOZGDhjDp9aCnzZ1BrEoYpltyc3MSqvN2cJiDxjNwjxHh+BAEAQRf76CvTpUS441z3YxTuzAJL9Str0GrtRoH8EhzMvDBUWesgr6okOfTbz8IKxD5CYpIwAvUiaoEiXfI5wJP9oPmeF7ioaXv/UhVIlS7jp9kzzZPi/1Yp7UFzkLjgXO0BUx+Z2UMGr4sYIXPMxw7WM7nMEdbJglEPg7rhXENWq9pPJvGQgeN4X1Nr7dwk1sH9x+WsHzYuzg+I65B6zWNZ/NYnMVdwMuOUDecUCwzxlrIagoDHduk8XGMYc8EXFedF4Zxz8wQ92A9KqePhhMdJ7kwE+/peFc/JnTiAduoFGYdq5WIIZyhXl1GVhbnCb3y2vL3yMU2q0WGHWnE8clqdN0JFCQ2os8S1FJ3CxtiULo0Mgc/Y4xHoiDBwF5ej+MlfkDv0VRlXD7Jz6dlfuI5qs2tuAfJ9AfgyDjJcfBzWLanHzNKL7aV76pAA1qxQoKrRdkOXjfFeJ6HOjLtbiH6xHKsK8qxzWxcWG2cutJI4+PLMl9fc+4aaumzMwa100GRCG9yekPRxKAURla1a0oq4IBHVeunE6hssu3opwGO1aofRsX7qz5jnMCG82X1G6ApjQWJpjlZS58qO3huN4fJ76xd4vZHlEiIAJ+SIv29WkxhPKAlmyzfS38E/UJ4M4DPorE3iOSJLRz/b+giJDpOawyv31b46kEwH8lTKSN4FImYFXx7LS7sinp31z+GRjQ6Hvw0wNAlzhjcwC01uH4vLF1Pqa8tLI5BiT6MHvTAyhu7GGPMIQsrQHHoDGaTCUyEPYOYy1ZSV2sEb6TJ+YyPnyL9m1vxunozPZKK6PrtcKTG1QKdegCDLcO49YAxbVdf81juoBoa2CUEuAbZl2xIoeRADwdwPIXpYgELZdb6Z0oNrWdHTY30RZcogshkywds9fI4Ewc9lBhmT3LvzQsiirOVRSAe3BfF7mV7LPc48Aes6edrEV3/Nr8n0ikfGilu6ZtMVtyLnfrKsc9B6euEptR5HMKLyMFjHJKGWmWTUy/77uFxlB0IPK+ODmO3E9SmEa19kKu2BTzl9zuwneepuBFwf1eckKvpz7ktko/6Ff15Pw1pvLunAoNGQsSj6jjDSfS1jUgV5dibxU1T+VkrSZ8LDsiQ6T5EP7ptlaVEy2+R4DIpU5dS8LIPfV6n5P00JU/m4RVlUFm/wvZLhrJ+zGB/aktgZza0Ia3Un7i/ouxjm6WsHa03LdftldU30p1GGlO9deartrbaqaXPzixuPQc1Wm7Sb3Gg+AgHP3NDyegmY/yhKmTBtvUeINVLb36UDp40nLhBpCbA4Q5a3o8JPZkqbFc0opWQevPt+MW9jC290daDS96janSjMci1Q45c0FhLn9JTdY62wPEOWpvuxTMZKj2Qzpha+ux00NPGoOt3CMMQzRAwMEwn0FYczcl3kOkjuzitg66mMB6PYfz0WthUZphuiOCZ5uR42vkWHP093Pzfoj6Rg45gnm51oF3onhVzjuTmZuHbWKeD/nC1Ns2F7oMyOxnNxWS82F/1uiB97KAMYzH8z5MYpiMo3swuZ7Pof6DE/36QYTpil4PqZJHRQYnNZgPD4VC9YximDdhBGeZMMPkcJ4kYxmLYQRnGWgD+B5bxLF0ot4BxAAAAAElFTkSuQmCC)"
   ]
  },
  {
   "cell_type": "code",
   "execution_count": null,
   "metadata": {
    "colab": {
     "base_uri": "https://localhost:8080/"
    },
    "id": "tFliNtX7-Sym",
    "outputId": "bf0294f3-9c67-47ea-f1d2-39ee7ccc40f4"
   },
   "outputs": [
    {
     "data": {
      "text/plain": [
       "['a', 'b', 'c']"
      ]
     },
     "execution_count": 31,
     "metadata": {},
     "output_type": "execute_result"
    }
   ],
   "source": [
    "# print first three items\n",
    "x = ['a','b','c','d','e','f','g']\n",
    "x[0:3]"
   ]
  },
  {
   "cell_type": "code",
   "execution_count": null,
   "metadata": {
    "colab": {
     "base_uri": "https://localhost:8080/"
    },
    "id": "P8vrc_W4DI4B",
    "outputId": "e1e6cc70-610a-4025-a3d4-8fd5672016c2"
   },
   "outputs": [
    {
     "data": {
      "text/plain": [
       "['c', 'd', 'e', 'f', 'g']"
      ]
     },
     "execution_count": 32,
     "metadata": {},
     "output_type": "execute_result"
    }
   ],
   "source": [
    "# print all items starting from c\n",
    "x[2:]"
   ]
  },
  {
   "cell_type": "code",
   "execution_count": null,
   "metadata": {
    "colab": {
     "base_uri": "https://localhost:8080/"
    },
    "id": "9L3-D0zA-O-_",
    "outputId": "9891de23-1730-4219-b2f8-8aa1e67c2487"
   },
   "outputs": [
    {
     "data": {
      "text/plain": [
       "['e', 'f']"
      ]
     },
     "execution_count": 35,
     "metadata": {},
     "output_type": "execute_result"
    }
   ],
   "source": [
    "# print last three items\n",
    "x[-3:-1]"
   ]
  },
  {
   "cell_type": "code",
   "execution_count": null,
   "metadata": {
    "colab": {
     "base_uri": "https://localhost:8080/"
    },
    "id": "9abqArJP9zkL",
    "outputId": "d52840db-d13e-44d3-f6b3-a92ce4fe6f68"
   },
   "outputs": [
    {
     "data": {
      "text/plain": [
       "['a', 'b', 'c', 'd', 'e', 'f', 'g']"
      ]
     },
     "execution_count": 36,
     "metadata": {},
     "output_type": "execute_result"
    }
   ],
   "source": [
    "# print all items of list\n",
    "x[::]"
   ]
  },
  {
   "cell_type": "code",
   "execution_count": null,
   "metadata": {
    "colab": {
     "base_uri": "https://localhost:8080/"
    },
    "id": "QVsG3NHwDedc",
    "outputId": "f58b5e86-d491-4805-fcba-d9e17a4704c8"
   },
   "outputs": [
    {
     "data": {
      "text/plain": [
       "['g', 'f', 'e', 'd', 'c', 'b', 'a']"
      ]
     },
     "execution_count": 37,
     "metadata": {},
     "output_type": "execute_result"
    }
   ],
   "source": [
    "# print all items in reverse order\n",
    "x[::-1]"
   ]
  },
  {
   "cell_type": "code",
   "execution_count": null,
   "metadata": {
    "colab": {
     "base_uri": "https://localhost:8080/"
    },
    "id": "vDr6uz3sDlbD",
    "outputId": "2ffc46ee-e0a0-43c8-fc9b-ec2a3cc828ec"
   },
   "outputs": [
    {
     "data": {
      "text/plain": [
       "['a', 'c', 'e', 'g']"
      ]
     },
     "execution_count": 39,
     "metadata": {},
     "output_type": "execute_result"
    }
   ],
   "source": [
    "# print alternate items in the list\n",
    "#x[0:7:2]\n",
    "x[::2]"
   ]
  },
  {
   "cell_type": "markdown",
   "metadata": {
    "id": "-Em2YrSME2M_"
   },
   "source": [
    "# Conditions ( if / else )\n",
    "\n",
    "- Equals: a = = b\n",
    "- Not Equals: a != b\n",
    "- Less than: a < b\n",
    "- Less than or equal to: a <= b\n",
    "- Greater than: a > b\n",
    "- Greater than or equal to: a >= b"
   ]
  },
  {
   "cell_type": "code",
   "execution_count": null,
   "metadata": {
    "colab": {
     "base_uri": "https://localhost:8080/"
    },
    "id": "QZfmtlo1Fx_t",
    "outputId": "d5493335-a998-4f18-bece-be217869f9ba"
   },
   "outputs": [
    {
     "name": "stdout",
     "output_type": "stream",
     "text": [
      "a is less than b\n"
     ]
    }
   ],
   "source": [
    "# If example\n",
    "\n",
    "a = 10\n",
    "b = 20\n",
    "if a < b :\n",
    "  print('a is less than b')     # look at the indentation"
   ]
  },
  {
   "cell_type": "code",
   "execution_count": null,
   "metadata": {
    "colab": {
     "base_uri": "https://localhost:8080/"
    },
    "id": "tZ9x-QK9HlXq",
    "outputId": "8b540357-0d04-488f-d461-09e3642c095d"
   },
   "outputs": [
    {
     "name": "stdout",
     "output_type": "stream",
     "text": [
      "b is grater than a\n"
     ]
    }
   ],
   "source": [
    "# If / Else\n",
    "a = 10\n",
    "b = 20\n",
    "if a>b:\n",
    "  print('a is grater than b')\n",
    "else:\n",
    "  print('b is grater than a')\n"
   ]
  },
  {
   "cell_type": "code",
   "execution_count": null,
   "metadata": {
    "colab": {
     "base_uri": "https://localhost:8080/"
    },
    "id": "HTHlJ_MfIJJ7",
    "outputId": "149d2bdc-e413-4085-f97d-afb99121153c"
   },
   "outputs": [
    {
     "name": "stdout",
     "output_type": "stream",
     "text": [
      "a is equal to b\n"
     ]
    }
   ],
   "source": [
    "# elif  (if previous condition is not true than check elif condition)\n",
    "\n",
    "if a>b:\n",
    "  print('a is grater than b')\n",
    "elif a==b:\n",
    "  print('a is equal to b')\n",
    "else:\n",
    "  print('a is less than b')\n"
   ]
  },
  {
   "cell_type": "markdown",
   "metadata": {
    "id": "DsS7T-oBK0C0"
   },
   "source": [
    "# Loop with condition"
   ]
  },
  {
   "cell_type": "code",
   "execution_count": null,
   "metadata": {
    "colab": {
     "base_uri": "https://localhost:8080/"
    },
    "id": "q8coZB4sJqDv",
    "outputId": "6d43a53e-50fa-4079-89f2-36ec1d9a708c"
   },
   "outputs": [
    {
     "name": "stdout",
     "output_type": "stream",
     "text": [
      "1\n",
      "5\n",
      "3\n",
      "-4\n",
      "2\n",
      "-2\n"
     ]
    }
   ],
   "source": [
    "# print only positive numbers from the list x\n",
    "\n",
    "# create the list with mixed numbers\n",
    "x = [1,5,3,-4,2,-2]\n",
    "\n",
    "# # loop through list x and check for negative numbers to skip\n",
    "# for i in x:\n",
    "\n",
    "#   # if number is negative continue to next item\n",
    "#   if i<0:\n",
    "#     continue\n",
    "#   else:\n",
    "#     print (i)\n",
    "\n",
    "for i in x:\n",
    " print(i)\n"
   ]
  },
  {
   "cell_type": "code",
   "execution_count": null,
   "metadata": {
    "colab": {
     "base_uri": "https://localhost:8080/"
    },
    "id": "zY42u5upPn7V",
    "outputId": "1f100546-6136-43c0-c187-62482cd45cda"
   },
   "outputs": [
    {
     "data": {
      "text/plain": [
       "[1, 2, 3, 4, 5, 'a', 'b', 'c', 'd', 'e', 'f', 'g']"
      ]
     },
     "execution_count": 51,
     "metadata": {},
     "output_type": "execute_result"
    }
   ],
   "source": [
    "list3"
   ]
  },
  {
   "cell_type": "code",
   "execution_count": null,
   "metadata": {
    "colab": {
     "base_uri": "https://localhost:8080/"
    },
    "id": "rmNjYHRWPgoG",
    "outputId": "479dda7f-64e1-40a4-d46b-a047bebabb60"
   },
   "outputs": [
    {
     "name": "stdout",
     "output_type": "stream",
     "text": [
      "2\n",
      "3\n",
      "4\n",
      "5\n",
      "6\n",
      "A\n",
      "B\n",
      "C\n",
      "D\n",
      "E\n",
      "F\n",
      "G\n"
     ]
    }
   ],
   "source": [
    "# Another example using lists created before in Task1\n",
    "\n",
    "# loop through list3\n",
    "for i in list3:\n",
    "\n",
    "  # check if type of item in list3 is string and convert it to upper case\n",
    "  if type(i)==str:\n",
    "    print(i.upper())\n",
    "\n",
    "  # Else increment it by 1 and print\n",
    "  else:\n",
    "    print(i+1)"
   ]
  },
  {
   "cell_type": "code",
   "execution_count": null,
   "metadata": {
    "colab": {
     "base_uri": "https://localhost:8080/",
     "height": 36
    },
    "id": "zmd-w9MpSEjb",
    "outputId": "8c0aa0a7-9dc5-4018-f8f0-1939ec398cc2"
   },
   "outputs": [
    {
     "data": {
      "application/vnd.google.colaboratory.intrinsic+json": {
       "type": "string"
      },
      "text/plain": [
       "'apple'"
      ]
     },
     "execution_count": 56,
     "metadata": {},
     "output_type": "execute_result"
    }
   ],
   "source": [
    "lst= ['banana','apple']\n",
    "lst[1]"
   ]
  },
  {
   "cell_type": "markdown",
   "metadata": {
    "id": "k7YIanprPmO-"
   },
   "source": [
    "# Loop with nested list"
   ]
  },
  {
   "cell_type": "code",
   "execution_count": null,
   "metadata": {
    "colab": {
     "base_uri": "https://localhost:8080/"
    },
    "id": "wg-nZrbQPKm9",
    "outputId": "0da1a9f3-8aea-42fa-85d1-1d667611f3f1"
   },
   "outputs": [
    {
     "name": "stdout",
     "output_type": "stream",
     "text": [
      "['Apple', 'Red']\n",
      " Apple is Red color.\n",
      "['Banana', 'Yellow']\n",
      " Banana is Yellow color.\n",
      "['Orange', 'Orange']\n",
      " Orange is Orange color.\n",
      "['Kiwi', 'Golden']\n",
      " Kiwi is Golden color.\n"
     ]
    }
   ],
   "source": [
    "# create a list with nested list\n",
    "fruit_color = [['Apple','Red'],['Banana','Yellow'],['Orange','Orange'],['Kiwi','Golden']]\n",
    "\n",
    "# loop thorough the list and print fruit and its color\n",
    "for fruit in fruit_color:\n",
    "   print(fruit)\n",
    "   print(f\" {fruit[0]} is {fruit[1]} color.\")"
   ]
  },
  {
   "cell_type": "markdown",
   "metadata": {
    "id": "_rI-_HzRU0Ce"
   },
   "source": [
    "# Function_3"
   ]
  },
  {
   "cell_type": "markdown",
   "metadata": {
    "id": "1c2GLTAxdtCT"
   },
   "source": [
    "# Nested Dictionaries"
   ]
  },
  {
   "cell_type": "code",
   "execution_count": null,
   "metadata": {
    "colab": {
     "base_uri": "https://localhost:8080/"
    },
    "id": "WIJ0O4AOeisF",
    "outputId": "a8b37f90-0fe6-428d-d425-9cb44276051a"
   },
   "outputs": [
    {
     "data": {
      "text/plain": [
       "dict_keys(['Aaa', 'Bbb', 'Ccc', 'Ddd'])"
      ]
     },
     "execution_count": 32,
     "metadata": {},
     "output_type": "execute_result"
    }
   ],
   "source": [
    "# create the dictionary of student with subject name and score\n",
    "subject_dict = {'Aaa':{'Physics': 72,\n",
    "                       'Math': 85,},\n",
    "                'Bbb':{'Physics': 60,\n",
    "                       'Math': 75,},\n",
    "                'Ccc':{'Physics': 90,\n",
    "                       'Math': 80,},\n",
    "                'Ddd':{'Physics': 74,\n",
    "                       'Math': 65,}}\n",
    "\n",
    "# .keys() method is for accessing the keys in directories\n",
    "subject_dict.keys()\n"
   ]
  },
  {
   "cell_type": "code",
   "execution_count": null,
   "metadata": {
    "colab": {
     "base_uri": "https://localhost:8080/"
    },
    "id": "0icmPRKto6vr",
    "outputId": "b87877bf-1ad8-43be-d3e7-74ca6552ef39"
   },
   "outputs": [
    {
     "name": "stdout",
     "output_type": "stream",
     "text": [
      "dict_values([{'Physics': 72, 'Math': 85}, {'Physics': 60, 'Math': 75}, {'Physics': 90, 'Math': 80}, {'Physics': 74, 'Math': 65}])\n"
     ]
    }
   ],
   "source": [
    "# .values() method is for accessing the values in directories\n",
    "print(subject_dict.values())"
   ]
  },
  {
   "cell_type": "code",
   "execution_count": null,
   "metadata": {
    "colab": {
     "base_uri": "https://localhost:8080/"
    },
    "id": "DcI00HUHqcxL",
    "outputId": "61bb2fe1-08b4-4a40-dbb4-08a415a57635"
   },
   "outputs": [
    {
     "data": {
      "text/plain": [
       "{'Math': 75, 'Physics': 60}"
      ]
     },
     "execution_count": 35,
     "metadata": {},
     "output_type": "execute_result"
    }
   ],
   "source": [
    "subject_dict['Bbb']"
   ]
  },
  {
   "cell_type": "code",
   "execution_count": null,
   "metadata": {
    "colab": {
     "base_uri": "https://localhost:8080/"
    },
    "id": "tyGRLL1JrvSP",
    "outputId": "6bf7c12b-de81-4111-e0a1-8f29ed7ae6f6"
   },
   "outputs": [
    {
     "data": {
      "text/plain": [
       "80"
      ]
     },
     "execution_count": 37,
     "metadata": {},
     "output_type": "execute_result"
    }
   ],
   "source": [
    "# what is the math score of 'ccc' ?\n",
    "\n",
    "subject_dict['Ccc']['Math']"
   ]
  },
  {
   "cell_type": "code",
   "execution_count": null,
   "metadata": {
    "colab": {
     "base_uri": "https://localhost:8080/"
    },
    "id": "HxsvhwD3eKC-",
    "outputId": "fb012838-e6ca-46a4-d035-193efaa5bfa0"
   },
   "outputs": [
    {
     "name": "stdout",
     "output_type": "stream",
     "text": [
      " Aaa, scored  72 in Physics and 85 in Maths\n",
      " Bbb, scored  60 in Physics and 75 in Maths\n",
      " Ccc, scored  90 in Physics and 80 in Maths\n",
      " Ddd, scored  74 in Physics and 65 in Maths\n"
     ]
    }
   ],
   "source": [
    "# loop through nested dictionary and print Physics and Math score for all students\n",
    "\n",
    "for name,subject in subject_dict.items():\n",
    "    print(f\" {name}, scored  {subject['Physics']} in Physics and {subject['Math']} in Maths\")"
   ]
  },
  {
   "cell_type": "code",
   "execution_count": null,
   "metadata": {
    "colab": {
     "base_uri": "https://localhost:8080/"
    },
    "id": "0vNrU62Ddtv8",
    "outputId": "c6ada245-c2e4-4ce7-b76b-86fe5245260b"
   },
   "outputs": [
    {
     "name": "stdout",
     "output_type": "stream",
     "text": [
      "purvi\n",
      " purvi, is not in the directory\n"
     ]
    }
   ],
   "source": [
    "# check if student Xxx is present in the student directory or not and print appropriate message\n",
    "\n",
    "# take input from the user and save it in a variable name\n",
    "name=input()\n",
    "\n",
    "if name in subject_dict.keys():\n",
    "  print(f\" {name}, is in the directory\")\n",
    "else:\n",
    "  print(f\" {name}, is not in the directory\")"
   ]
  },
  {
   "cell_type": "markdown",
   "metadata": {
    "id": "t4LiS_-C07ex"
   },
   "source": [
    "# Nested loops\n",
    "- loops within loops"
   ]
  },
  {
   "cell_type": "code",
   "execution_count": null,
   "metadata": {
    "colab": {
     "base_uri": "https://localhost:8080/"
    },
    "id": "EwzQaMg37M6V",
    "outputId": "4a2d21da-f955-4459-b11a-96f6e05d743d"
   },
   "outputs": [
    {
     "name": "stdout",
     "output_type": "stream",
     "text": [
      "Length of Friends is 7.\n",
      "Length of Family Guy is 10.\n",
      "Length of Spider Man is 10.\n",
      "Length of Game of Thrones is 15.\n",
      "Length of Over the Moon is 13.\n",
      "Length of Luca is 4.\n",
      "Length of Home Alone is 10.\n",
      "Length of Breaking bad is 12.\n",
      "Length of Captain America is 15.\n"
     ]
    }
   ],
   "source": [
    "# create a nested list with movie names\n",
    "\n",
    "movies = [['Friends','Family Guy','Spider Man','Game of Thrones'],\n",
    "          ['Over the Moon','Luca','Home Alone'],\n",
    "          ['Breaking bad','Captain America']]\n",
    "\n",
    "# loop through the movies\n",
    "for sublist in movies:\n",
    "\n",
    "  # loop through movie in sublist\n",
    "  for movie in sublist:\n",
    "\n",
    "    # print length of each movie\n",
    "    print(f\"Length of {movie} is {len(movie)}.\")"
   ]
  },
  {
   "cell_type": "code",
   "execution_count": null,
   "metadata": {
    "colab": {
     "base_uri": "https://localhost:8080/"
    },
    "id": "qKoug7Vhc1Pz",
    "outputId": "9fc07733-e1d3-43ed-8565-09db449e8649"
   },
   "outputs": [
    {
     "name": "stdout",
     "output_type": "stream",
     "text": [
      "\n",
      "Name = Aaa\n",
      "72\n",
      "85\n",
      "\n",
      "Name = Bbb\n",
      "60\n",
      "75\n",
      "\n",
      "Name = Ccc\n",
      "90\n",
      "80\n",
      "\n",
      "Name = Ddd\n",
      "74\n",
      "65\n"
     ]
    }
   ],
   "source": [
    "# consider the same example of subject_dict\n",
    "\n",
    "# first loop through subject_dict\n",
    "for name ,subject in subject_dict.items():\n",
    "\n",
    "  # print the name in first loop\n",
    "  print(f\"\\nName = {name}\")\n",
    "\n",
    "  #loop through subject\n",
    "  for sub in subject:\n",
    "    print(subject[sub])"
   ]
  }
 ],
 "metadata": {
  "colab": {
   "provenance": [],
   "toc_visible": true
  },
  "kernelspec": {
   "display_name": "Python 3 (ipykernel)",
   "language": "python",
   "name": "python3"
  },
  "language_info": {
   "codemirror_mode": {
    "name": "ipython",
    "version": 3
   },
   "file_extension": ".py",
   "mimetype": "text/x-python",
   "name": "python",
   "nbconvert_exporter": "python",
   "pygments_lexer": "ipython3",
   "version": "3.8.13"
  },
  "toc": {
   "base_numbering": 1,
   "nav_menu": {},
   "number_sections": false,
   "sideBar": true,
   "skip_h1_title": false,
   "title_cell": "Table of Contents",
   "title_sidebar": "Contents",
   "toc_cell": false,
   "toc_position": {},
   "toc_section_display": true,
   "toc_window_display": true
  }
 },
 "nbformat": 4,
 "nbformat_minor": 1
}
