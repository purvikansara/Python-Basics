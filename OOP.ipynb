{
 "cells": [
  {
   "cell_type": "markdown",
   "metadata": {
    "id": "wfmOQMTsUwwN"
   },
   "source": [
    "# OOP"
   ]
  },
  {
   "cell_type": "markdown",
   "metadata": {
    "id": "eF1FkZLgAAvu"
   },
   "source": [
    "## Table of Contents"
   ]
  },
  {
   "cell_type": "markdown",
   "metadata": {
    "id": "ekoLe8PoANp6"
   },
   "source": [
    "- [User Assignment](#user)\n",
    "- [BankAccount Assignment](#bank-account)\n",
    "- [User w/ BankAccount Assignment](#user-bankaccount)"
   ]
  },
  {
   "cell_type": "markdown",
   "metadata": {
    "id": "d66JQNMQ6bmN"
   },
   "source": [
    "### Resources"
   ]
  },
  {
   "cell_type": "markdown",
   "metadata": {
    "id": "b-tRUC7B60aO"
   },
   "source": [
    "\n",
    "<h2>Objectives:</h2>\n",
    "<ul>\n",
    "    <li>Practice creating a class and making instances from it</li>\n",
    "    <li>Practice accessing the methods and attributes of different instances</li>\n",
    "</ul>\n",
    "<hr>\n",
    "<p>For this assignment, create and add the following functionality to some \"User\" class:<br></p>\n",
    "<ul>\n",
    "\t<li><strong>make_withdrawal(self, amount)</strong> - have this method decrease the user's balance by the amount specified</li>\n",
    "\t<li><strong>display_user_balance(self)</strong> - have this method print the user's name and account balance to the terminal</li>\n",
    "    <ul><li>eg. \"User: Guido van Rossum, Balance: $150</li></ul>\n",
    "    <li><strong>BONUS: transfer_money(self, other_user, amount)</strong> - have this method decrease the user's balance by the amount and add that amount to other other_user's balance</li>\n",
    "</ul>\n",
    "        "
   ]
  },
  {
   "cell_type": "code",
   "execution_count": null,
   "metadata": {
    "colab": {
     "base_uri": "https://localhost:8080/"
    },
    "id": "ccQGmjJpBNr-",
    "outputId": "18ad659d-c8e8-4b5d-e314-d8dec59773af"
   },
   "outputs": [
    {
     "data": {
      "text/plain": [
       "0"
      ]
     },
     "execution_count": 67,
     "metadata": {},
     "output_type": "execute_result"
    }
   ],
   "source": [
    "## Create the User class\n",
    "class User:\n",
    "\n",
    "  def __init__(self,name,start_balance=0,email='purvi@gmail.com'):\n",
    "\n",
    "    self.name = name\n",
    "    self.balance = start_balance\n",
    "    self.email =email\n",
    "\n",
    "  def make_withdrawal(self,amount):\n",
    "    self.balance = self.balance -amount\n",
    "\n",
    "  def make_deposit(self,amount):\n",
    "    self.balance += amount\n",
    "\n",
    "  def display_user_balance(self):\n",
    "    print(f'User: {self.name}, Balance : ${self.balance}')\n",
    "\n",
    "\n",
    "  def transfer_money(self,other_user,amount):\n",
    "    self.make_withdrawal(amount)\n",
    "    other_user.make_deposit(amount)\n",
    "\n",
    "user1 = User('Purvi')\n",
    "user1.name\n",
    "user1.balance"
   ]
  },
  {
   "cell_type": "code",
   "execution_count": null,
   "metadata": {
    "colab": {
     "base_uri": "https://localhost:8080/",
     "height": 37
    },
    "id": "JRTwuFuIZVyY",
    "outputId": "4526a06c-b6e4-4c28-af3f-5f85fcf2f4f1"
   },
   "outputs": [
    {
     "data": {
      "application/vnd.google.colaboratory.intrinsic+json": {
       "type": "string"
      },
      "text/plain": [
       "'purvi@gmail.com'"
      ]
     },
     "execution_count": 68,
     "metadata": {},
     "output_type": "execute_result"
    }
   ],
   "source": [
    "user1 = User('Purvi',100)\n",
    "user1.name\n",
    "user1.balance\n",
    "user1.email"
   ]
  },
  {
   "cell_type": "code",
   "execution_count": null,
   "metadata": {
    "colab": {
     "base_uri": "https://localhost:8080/"
    },
    "id": "e-J2J7nIDyoh",
    "outputId": "078a36b6-ebaf-4bb3-dbee-e24c0175deac"
   },
   "outputs": [
    {
     "name": "stdout",
     "output_type": "stream",
     "text": [
      "User: Purvi, Balance : $200\n"
     ]
    }
   ],
   "source": [
    "## Create a test user, Purvi, with a starting balance of 100\n",
    "\n",
    "user1 = User(\"Purvi\", start_balance=200 )\n",
    "\n",
    "# display balance\n",
    "user1.display_user_balance()"
   ]
  },
  {
   "cell_type": "code",
   "execution_count": null,
   "metadata": {
    "colab": {
     "base_uri": "https://localhost:8080/"
    },
    "id": "AMXCkEq2GSAe",
    "outputId": "93dbdc71-3fcd-43de-e894-e192a60248a2"
   },
   "outputs": [
    {
     "name": "stdout",
     "output_type": "stream",
     "text": [
      "User: Purvi, Balance : $703.5\n"
     ]
    }
   ],
   "source": [
    "## Make test deposits: 3.50, 450, 100 and then display balance\n",
    "\n",
    "user1.make_deposit(3.50)\n",
    "user1.make_deposit(450)\n",
    "user1.make_deposit(100)\n",
    "user1.make_withdrawal(50)\n",
    "\n",
    "user1.display_user_balance()"
   ]
  },
  {
   "cell_type": "code",
   "execution_count": null,
   "metadata": {
    "colab": {
     "base_uri": "https://localhost:8080/"
    },
    "id": "0yCe1yylcSah",
    "outputId": "c5982092-5eab-4def-c553-dd1a714c25f7"
   },
   "outputs": [
    {
     "data": {
      "text/plain": [
       "703.5"
      ]
     },
     "execution_count": 71,
     "metadata": {},
     "output_type": "execute_result"
    }
   ],
   "source": [
    "user1.balance"
   ]
  },
  {
   "cell_type": "code",
   "execution_count": null,
   "metadata": {
    "id": "QiiSkFplcZp6"
   },
   "outputs": [],
   "source": [
    "user1.make_deposit(100)"
   ]
  },
  {
   "cell_type": "code",
   "execution_count": null,
   "metadata": {
    "colab": {
     "base_uri": "https://localhost:8080/"
    },
    "id": "t_1dhyB5ckg_",
    "outputId": "de29c135-06ef-4eb5-abf8-89fc76b187da"
   },
   "outputs": [
    {
     "data": {
      "text/plain": [
       "803.5"
      ]
     },
     "execution_count": 29,
     "metadata": {},
     "output_type": "execute_result"
    }
   ],
   "source": [
    "user1.balance"
   ]
  },
  {
   "cell_type": "code",
   "execution_count": null,
   "metadata": {
    "id": "7BKTCFC0Xcxv"
   },
   "outputs": [],
   "source": [
    "#user1.make_deposit(3.50).make_deposit(450).display_user_balance()"
   ]
  },
  {
   "cell_type": "code",
   "execution_count": null,
   "metadata": {
    "colab": {
     "base_uri": "https://localhost:8080/"
    },
    "id": "-gNXJH3hGLLS",
    "outputId": "19329bbb-d233-4e10-9c7a-2efe789cd287"
   },
   "outputs": [
    {
     "name": "stdout",
     "output_type": "stream",
     "text": [
      "User: Tanish, Balance : $3000\n",
      "User: Tanish, Balance : $3436\n"
     ]
    }
   ],
   "source": [
    "## Make a second user, Tanish, with a starting balance of 3000\n",
    "\n",
    "user2 = User(\"Tanish\", start_balance=3000 )\n",
    "\n",
    "## display balance\n",
    "user2.display_user_balance()\n",
    "## Deposit $446, withdraw $10 and display balance\n",
    "user2.make_deposit(446)\n",
    "user2.make_withdrawal(10)\n",
    "user2.display_user_balance()"
   ]
  },
  {
   "cell_type": "code",
   "execution_count": null,
   "metadata": {
    "colab": {
     "base_uri": "https://localhost:8080/"
    },
    "id": "GOuZLCwZGq41",
    "outputId": "5c19ebf0-9eae-451d-eaae-94ac4adff120"
   },
   "outputs": [
    {
     "name": "stdout",
     "output_type": "stream",
     "text": [
      "User: Tanish, Balance : $3325\n",
      "User: Purvi, Balance : $814.5\n"
     ]
    }
   ],
   "source": [
    "## Use the bonus \"transfer money\" method to transfer $175 from Tanish to purvi\n",
    "\n",
    "#user2.transfer_money(user1,175)\n",
    "user2.transfer_money(user1,111)\n",
    "## check account balances\n",
    "user2.display_user_balance()\n",
    "user1.display_user_balance()"
   ]
  },
  {
   "cell_type": "markdown",
   "metadata": {
    "id": "_z_38DFtEHS_"
   },
   "source": [
    "# 2. Bank Account (Practice) <a name='bank-account'></a>\n"
   ]
  },
  {
   "cell_type": "markdown",
   "metadata": {
    "id": "lQzeLBOW7FLh"
   },
   "source": [
    "<h2>Objectives</h2>\n",
    "\n",
    "<ul><li>Practice writing classes</li></ul>\n",
    "<p>As we continue thinking about our banking application, we realize that it would be more accurate to assign a balance not to the user directly, but that in the real world, users have&nbsp;<em>accounts</em>, and&nbsp;<em>accounts</em>&nbsp;have balances. This gives us the idea that maybe an account&nbsp;<em>is its own class</em>! But as we stated, it is not completely independent of a class; accounts only exist because users open them.</p>\n",
    "<p><em>For this assignment, don't worry about putting any user information in the BankAccount class. We'll take care of that in the next lesson!</em></p>\n",
    "<p>Let's first just get some more practice writing classes by writing a new&nbsp;<em>BankAccount</em>&nbsp;class. In the next lesson, we'll tie our User and BankAccount classes together.</p>\n",
    "\n",
    "<p>The BankAccount class should have a balance. When a new BankAccount instance is created, if an amount is given, the balance of the account should initially be set to that amount; otherwise, the balance should start at $0. The account should also have an interest rate, saved as a decimal (i.e. 1% would be saved as 0.01), which should be provided upon instantiation. (Hint: when using default values in parameters, the order of parameters matters!)</p>\n",
    "\n",
    "<p>The class should also have the following methods:</p>\n",
    "<ul><li>deposit(self, amount)&nbsp;- increases the account balance by the given amount</li><li>withdraw(self, amount)&nbsp;- decreases the account balance by the given amount if there are sufficient funds; if there is not enough money, print a message \"Insufficient funds: Charging a $5 fee\" and deduct $5</li><li>display_account_info(self)&nbsp;- print to the console: eg. \"Balance: $100\"</li><li>yield_interest(self)&nbsp;- increases the account balance by the current balance * the interest rate (as long as the balance is positive)</li></ul>\n",
    "\n",
    "<p>This means we&nbsp;need a class that looks something like this:</p>\n",
    "\n",
    "```python\n",
    "class BankAccount:\n",
    "\tdef __init__(self, int_rate, balance): # don't forget to add some default values for these parameters!\n",
    "\t\t# your code here! (remember, this is where we specify the attributes for our class)\n",
    "    # don't worry about user info here; we'll involve the User class soon\n",
    "\tdef deposit(self, amount):\n",
    "\t\t# your code here\n",
    "\tdef withdraw(self, amount):\n",
    "\t\t# your code here\n",
    "\tdef display_account_info(self):\n",
    "\t\t# your code here\n",
    "\tdef yield_interest(self):\n",
    "\t\t# your code here</pre>\n",
    "```\n",
    "\n",
    "- Create a BankAccount class with the attributes interest rate and balance. Default interest of 1% (0.01) and default balance = $0.</p>\n",
    "    - Add a deposit method to the BankAccount class\n",
    "    - Add a withdraw method to the BankAccount class</p>\n",
    "- Add a display_account_info method to the BankAccount class (to displace the current balance)\n",
    "- Add a yield_interest method to the BankAccount class</p>\n",
    "- Create 2 accounts\n",
    "    -  To the first account, make 3 deposits ( \\\\$100, \\\\$50, \\\\$250) and 1 withdrawal ($20), then calculate interest and display the account's info\n",
    "    - To the second account, make 2 deposits (\\\\$5000, \\\\$3500) and 4 withdrawals, (\\\\$250, \\\\$500, \\\\$1500, \\\\$1200) then calculate interest and display the account's info\n",
    "    \n",
    "- Submit your file.\n",
    "        \n",
    "        "
   ]
  },
  {
   "cell_type": "code",
   "execution_count": null,
   "metadata": {
    "id": "j1IHiABgM8KV"
   },
   "outputs": [],
   "source": [
    "## create the BankAccount class\n",
    "\n",
    "## create the BankAccount class\n",
    "class BankAccount:\n",
    "    def __init__(self, int_rate=0.01, balance=0):\n",
    "        self.int_rate = int_rate\n",
    "        self.balance = balance\n",
    "\n",
    "    def deposit(self, amount):\n",
    "        self.balance += amount\n",
    "\n",
    "    def withdraw(self, amount):\n",
    "        if self.balance - amount >= 0:\n",
    "\n",
    "            self.balance -= amount\n",
    "        else:\n",
    "            print(\"Insufficient Funds! - $5 Fee Charged\")\n",
    "            self.balance -= 5\n",
    "\n",
    "    def display_account_info(self):\n",
    "        print(f\"Balance = ${self.balance}\")\n",
    "\n",
    "\t\t# your code here\n",
    "    def yield_interest(self):\n",
    "        if self.balance > 0:\n",
    "            self.balance = self.balance +  (self.balance * self.int_rate)\n"
   ]
  },
  {
   "cell_type": "code",
   "execution_count": null,
   "metadata": {
    "colab": {
     "base_uri": "https://localhost:8080/"
    },
    "id": "FsYE3pNsOMkc",
    "outputId": "ef509d7c-cbf6-4a8f-e1e5-dc90e4cb7ec4"
   },
   "outputs": [
    {
     "name": "stdout",
     "output_type": "stream",
     "text": [
      "Balance = $0\n",
      "Balance = $370\n"
     ]
    }
   ],
   "source": [
    "## Create account 1\n",
    "acct1 = BankAccount()\n",
    "acct1.display_account_info()\n",
    "# To the first account, make 3 deposits ( $100, $50, $250) and 1 withdrawal ($20),\n",
    "# then calculate interest and display the account's info\n",
    "acct1.deposit(100)\n",
    "acct1.deposit(50)\n",
    "acct1.deposit(250)\n",
    "acct1.withdraw(30)\n",
    "acct1.display_account_info()\n",
    "\n",
    "# acct1.yield_interest()\n",
    "# acct1.display_account_info()"
   ]
  },
  {
   "cell_type": "code",
   "execution_count": null,
   "metadata": {
    "id": "xwW-oeQiO6GC"
   },
   "outputs": [],
   "source": [
    "## Create account 2\n",
    "\n",
    "## To the second account, make 2 deposits ($5000, $3500) and 4 withdrawals,\n",
    "# ($250, $500, $1500, $1200) then calculate interest and display the account's info\n"
   ]
  }
 ],
 "metadata": {
  "colab": {
   "provenance": []
  },
  "kernelspec": {
   "display_name": "Python 3 (ipykernel)",
   "language": "python",
   "name": "python3"
  },
  "language_info": {
   "codemirror_mode": {
    "name": "ipython",
    "version": 3
   },
   "file_extension": ".py",
   "mimetype": "text/x-python",
   "name": "python",
   "nbconvert_exporter": "python",
   "pygments_lexer": "ipython3",
   "version": "3.8.13"
  },
  "toc": {
   "base_numbering": 1,
   "nav_menu": {},
   "number_sections": true,
   "sideBar": true,
   "skip_h1_title": false,
   "title_cell": "Table of Contents",
   "title_sidebar": "Contents",
   "toc_cell": false,
   "toc_position": {},
   "toc_section_display": true,
   "toc_window_display": false
  }
 },
 "nbformat": 4,
 "nbformat_minor": 1
}
